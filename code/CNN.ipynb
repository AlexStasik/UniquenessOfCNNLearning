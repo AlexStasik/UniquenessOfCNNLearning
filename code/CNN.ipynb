{
 "cells": [
  {
   "cell_type": "code",
   "execution_count": 1,
   "metadata": {},
   "outputs": [
    {
     "name": "stderr",
     "output_type": "stream",
     "text": [
      "Using TensorFlow backend.\n",
      "/Users/astasik/anaconda3/lib/python3.6/importlib/_bootstrap.py:219: RuntimeWarning: compiletime version 3.5 of module 'tensorflow.python.framework.fast_tensor_util' does not match runtime version 3.6\n",
      "  return f(*args, **kwds)\n"
     ]
    }
   ],
   "source": [
    "from __future__ import print_function\n",
    "import keras\n",
    "from keras.datasets import mnist\n",
    "from keras.models import Sequential\n",
    "from keras.layers import Dense, Dropout, Flatten\n",
    "from keras.layers import Conv2D, MaxPooling2D\n",
    "from keras.layers import Input, Dense\n",
    "from keras.models import Model\n",
    "from keras import backend as K\n",
    "import random\n",
    "import matplotlib.pyplot as plt\n",
    "\n",
    "%matplotlib inline"
   ]
  },
  {
   "cell_type": "code",
   "execution_count": 2,
   "metadata": {},
   "outputs": [],
   "source": [
    "(x_train, y_train), (x_test, y_test) = mnist.load_data()"
   ]
  },
  {
   "cell_type": "code",
   "execution_count": 3,
   "metadata": {},
   "outputs": [
    {
     "data": {
      "image/png": "[encoded data removed]",
      "text/plain": [
       "<Figure size 432x288 with 4 Axes>"
      ]
     },
     "metadata": {},
     "output_type": "display_data"
    }
   ],
   "source": [
    "random_indices = [random.randint(0,50000) for x in range(5)]\n",
    "\n",
    "for i in range(4):\n",
    "    plt.subplot(1,4,i+1)\n",
    "    plt.imshow(x_train[random_indices[i]].reshape(28,28))\n",
    "    plt.xticks([]) \n",
    "    plt.yticks([])\n",
    "    \n",
    "x_test_original = x_test"
   ]
  },
  {
   "cell_type": "code",
   "execution_count": 4,
   "metadata": {},
   "outputs": [],
   "source": [
    "# input image dimensions\n",
    "img_rows, img_cols = 28, 28\n",
    "\n",
    "if K.image_data_format() == 'channels_first':\n",
    "    x_train = x_train.reshape(x_train.shape[0], 1, img_rows, img_cols)\n",
    "    x_test = x_test.reshape(x_test.shape[0], 1, img_rows, img_cols)\n",
    "    input_shape = (1, img_rows, img_cols)\n",
    "else:\n",
    "    x_train = x_train.reshape(x_train.shape[0], img_rows, img_cols, 1)\n",
    "    x_test = x_test.reshape(x_test.shape[0], img_rows, img_cols, 1)\n",
    "    input_shape = (img_rows, img_cols, 1)"
   ]
  },
  {
   "cell_type": "code",
   "execution_count": 5,
   "metadata": {},
   "outputs": [
    {
     "name": "stdout",
     "output_type": "stream",
     "text": [
      "x_train shape: (60000, 28, 28, 1)\n",
      "60000 train samples\n",
      "10000 test samples\n"
     ]
    }
   ],
   "source": [
    "x_train = x_train.astype('float32')\n",
    "x_test = x_test.astype('float32')\n",
    "x_train /= 255\n",
    "x_test /= 255\n",
    "print('x_train shape:', x_train.shape)\n",
    "print(x_train.shape[0], 'train samples')\n",
    "print(x_test.shape[0], 'test samples')"
   ]
  },
  {
   "cell_type": "code",
   "execution_count": 6,
   "metadata": {},
   "outputs": [],
   "source": [
    "# convert class vectors to binary class matrices\n",
    "num_classes = 10\n",
    "y_train = keras.utils.to_categorical(y_train, num_classes)\n",
    "y_test = keras.utils.to_categorical(y_test, num_classes)"
   ]
  },
  {
   "cell_type": "code",
   "execution_count": 7,
   "metadata": {},
   "outputs": [],
   "source": [
    "inputs = Input(shape=input_shape)\n",
    "x = Conv2D(32, kernel_size=(5, 5), strides=(1, 1), activation='relu')(inputs)\n",
    "x = MaxPooling2D(pool_size=(2, 2), strides=(2,2))(x)\n",
    "\n",
    "x = Conv2D(48, kernel_size=(5, 5), strides=(1,1), activation='relu')(x)\n",
    "x = MaxPooling2D(pool_size=(2, 2), strides=(2,2))(x)\n",
    "\n",
    "x = Flatten()(x)\n",
    "x = Dense(512, activation='relu')(x)\n",
    "predictions = Dense(10, activation='softmax')(x)\n",
    "\n",
    "model = Model(inputs=inputs, outputs=predictions)\n",
    "\n",
    "model.compile(loss=keras.losses.categorical_crossentropy,\n",
    "              optimizer=keras.optimizers.Adadelta(),\n",
    "              metrics=['accuracy'])\n",
    "\n"
   ]
  },
  {
   "cell_type": "code",
   "execution_count": 8,
   "metadata": {},
   "outputs": [
    {
     "name": "stdout",
     "output_type": "stream",
     "text": [
      "Train on 60000 samples, validate on 10000 samples\n",
      "Epoch 1/2\n",
      "60000/60000 [==============================] - 48s 795us/step - loss: 0.1962 - acc: 0.9409 - val_loss: 0.0573 - val_acc: 0.9817\n",
      "Epoch 2/2\n",
      "60000/60000 [==============================] - 40s 675us/step - loss: 0.0481 - acc: 0.9852 - val_loss: 0.0369 - val_acc: 0.9890\n"
     ]
    },
    {
     "data": {
      "text/plain": [
       "<keras.callbacks.History at 0x10f9f7748>"
      ]
     },
     "execution_count": 8,
     "metadata": {},
     "output_type": "execute_result"
    }
   ],
   "source": [
    "batch_size = 128\n",
    "epochs = 2\n",
    "\n",
    "model.fit(x_train, y_train,\n",
    "          batch_size=batch_size,\n",
    "          epochs=epochs,\n",
    "          verbose=1,\n",
    "          validation_data=(x_test, y_test))"
   ]
  },
  {
   "cell_type": "code",
   "execution_count": 9,
   "metadata": {},
   "outputs": [
    {
     "name": "stdout",
     "output_type": "stream",
     "text": [
      "Test loss: 0.0369168492234312\n",
      "Test accuracy: 0.989\n"
     ]
    },
    {
     "data": {
      "image/png": "[encoded data removed]",
      "text/plain": [
       "<Figure size 1152x576 with 15 Axes>"
      ]
     },
     "metadata": {
      "needs_background": "light"
     },
     "output_type": "display_data"
    }
   ],
   "source": [
    "score = model.evaluate(x_test, y_test, verbose=0)\n",
    "print('Test loss:', score[0])\n",
    "print('Test accuracy:', score[1])\n",
    "\n",
    "slice = 15\n",
    "predicted = model.predict(x_test[:slice]).argmax(-1)\n",
    "\n",
    "plt.figure(figsize=(16,8))\n",
    "for i in range(slice):\n",
    "    plt.subplot(1, slice, i+1)\n",
    "    plt.imshow(x_test_original[i], interpolation='nearest')\n",
    "    plt.text(0, 0, predicted[i], color='black', \n",
    "             bbox=dict(facecolor='white', alpha=1))\n",
    "    plt.axis('off')"
   ]
  },
  {
   "cell_type": "code",
   "execution_count": 10,
   "metadata": {},
   "outputs": [],
   "source": [
    "json_string = model.to_json()"
   ]
  },
  {
   "cell_type": "code",
   "execution_count": 11,
   "metadata": {},
   "outputs": [
    {
     "data": {
      "text/plain": [
       "' Also see https://medium.com/@14prakash/transfer-learning-using-keras-d804b2e04ef8'"
      ]
     },
     "execution_count": 11,
     "metadata": {},
     "output_type": "execute_result"
    }
   ],
   "source": [
    "'''See https://keras.io/getting-started/faq/#how-can-i-save-a-keras-model'''\n",
    "''' Also see https://medium.com/@14prakash/transfer-learning-using-keras-d804b2e04ef8'''"
   ]
  },
  {
   "cell_type": "code",
   "execution_count": 12,
   "metadata": {},
   "outputs": [
    {
     "data": {
      "text/plain": [
       "array([[[[ 1.35794118e-01,  1.84842899e-01,  1.20100550e-01,\n",
       "          -9.42609459e-02,  3.72004393e-03,  4.57251184e-02,\n",
       "           5.19004874e-02, -5.30439168e-02,  4.24261466e-02,\n",
       "           1.83776781e-01, -2.08388027e-02, -9.05957296e-02,\n",
       "          -2.84099355e-02, -9.49095637e-02,  1.19938195e-01,\n",
       "           6.77998364e-02, -3.46308872e-02,  1.70616489e-02,\n",
       "          -6.18103519e-03,  7.83303229e-04, -1.35554031e-01,\n",
       "          -3.56874056e-02, -2.18572523e-02, -3.04091405e-02,\n",
       "           8.04339498e-02, -1.50579140e-01, -3.51877324e-02,\n",
       "          -4.73456010e-02,  2.76686922e-02, -8.67072493e-02,\n",
       "          -7.53543675e-02, -3.28252092e-02]],\n",
       "\n",
       "        [[ 8.57777372e-02,  1.40694439e-01,  1.79105788e-03,\n",
       "          -1.78309858e-01, -1.64949000e-02, -1.82482321e-02,\n",
       "           3.72460149e-02,  4.81292978e-03,  2.83659194e-02,\n",
       "           1.09543040e-01,  1.55334417e-02,  1.43182948e-02,\n",
       "          -8.31413567e-02, -1.04186516e-02,  1.27289444e-01,\n",
       "           1.56266242e-02, -1.69953480e-01,  2.26791725e-02,\n",
       "           7.82965496e-02,  1.37546845e-02, -5.27659804e-02,\n",
       "          -1.60566419e-01,  6.41197246e-03, -3.64092067e-02,\n",
       "           7.68271387e-02, -1.73834711e-01, -9.22883227e-02,\n",
       "           2.78050900e-02,  2.44598668e-02, -8.94150138e-02,\n",
       "          -8.22620988e-02,  3.23711447e-02]],\n",
       "\n",
       "        [[ 2.00178057e-01, -2.22520716e-02, -2.24084612e-02,\n",
       "          -1.14984259e-01,  1.16063422e-02, -6.44374192e-02,\n",
       "          -6.51161373e-02, -1.07987754e-01,  5.20378072e-03,\n",
       "          -7.14025050e-02, -4.13828157e-02, -5.25859126e-04,\n",
       "          -1.34002581e-01,  4.27493937e-02,  1.77053124e-01,\n",
       "           3.26196030e-02, -1.57733321e-01, -8.62084702e-02,\n",
       "          -7.01335669e-02, -8.62395614e-02,  2.31990553e-02,\n",
       "          -1.94091395e-01,  1.04643051e-02, -5.83266504e-02,\n",
       "           6.58711493e-02, -5.62984347e-02, -3.10086012e-02,\n",
       "           3.31519730e-02,  1.02837838e-01, -3.02949399e-02,\n",
       "          -9.58923772e-02,  7.33735487e-02]],\n",
       "\n",
       "        [[ 1.83424532e-01, -1.09599479e-01, -4.80569042e-02,\n",
       "          -5.21895289e-02,  4.59076688e-02, -9.42618027e-02,\n",
       "          -1.94822010e-02,  6.33072555e-02,  7.39842206e-02,\n",
       "          -9.03585777e-02, -3.95781919e-02, -6.44998066e-03,\n",
       "          -8.05642903e-02,  6.11171387e-02,  1.13004990e-01,\n",
       "          -8.38054195e-02, -7.86924884e-02, -2.33268365e-02,\n",
       "          -3.88855226e-02,  7.78707936e-02,  1.03493333e-01,\n",
       "          -4.32076827e-02,  6.16810620e-02, -2.74422653e-02,\n",
       "           8.40189308e-02, -9.10291597e-02, -8.13034028e-02,\n",
       "           1.52530134e-01,  1.27549702e-02, -8.79799947e-04,\n",
       "           1.21925883e-01, -8.25110972e-02]],\n",
       "\n",
       "        [[ 7.81105692e-03, -9.39829722e-02, -1.10879138e-01,\n",
       "           5.61767034e-02, -7.75172608e-03,  2.20685136e-02,\n",
       "           4.78443541e-02,  1.17270067e-01, -2.05791788e-04,\n",
       "          -4.29457165e-02,  1.96341183e-02,  7.80880526e-02,\n",
       "          -1.27060890e-01, -2.06526425e-02,  1.74427867e-01,\n",
       "          -8.97086039e-02, -3.86583805e-02, -2.55625919e-02,\n",
       "           3.74841616e-02, -1.90665089e-02,  9.56293270e-02,\n",
       "           1.23759337e-01,  6.41342923e-02, -3.11708562e-02,\n",
       "           4.53399420e-02, -1.82455964e-02,  8.74621049e-02,\n",
       "           1.01118624e-01,  7.05491677e-02, -4.60922010e-02,\n",
       "           8.83773491e-02, -1.42620906e-01]]],\n",
       "\n",
       "\n",
       "       [[[-1.11810500e-02,  1.86343640e-01,  7.76776150e-02,\n",
       "          -1.72966287e-01,  1.60190985e-02,  1.17259517e-01,\n",
       "           6.50883019e-02,  8.37728679e-02,  8.69878754e-02,\n",
       "           1.21138453e-01,  1.80654842e-02, -1.21499766e-02,\n",
       "          -3.67752686e-02, -1.17634311e-01,  3.65246460e-02,\n",
       "          -9.14717000e-03,  7.52127543e-02,  1.07906554e-02,\n",
       "           3.00143175e-02, -7.24823996e-02, -2.09051818e-02,\n",
       "          -1.47748828e-01,  6.08770214e-02, -1.44139498e-01,\n",
       "          -9.94103402e-02, -1.64101392e-01, -7.62435049e-02,\n",
       "           7.42996708e-02, -1.42679000e-02,  2.70471051e-02,\n",
       "          -1.45322472e-01,  4.40002345e-02]],\n",
       "\n",
       "        [[ 2.66104117e-02,  2.35975925e-02, -1.14238067e-02,\n",
       "           2.61307564e-02, -1.07944414e-01, -3.62444408e-02,\n",
       "           7.85008222e-02,  3.81508260e-03,  1.13815583e-01,\n",
       "           3.86186168e-02,  7.39728138e-02, -2.24932674e-02,\n",
       "          -1.10037617e-01, -3.53437439e-02,  1.20439447e-01,\n",
       "           1.01651447e-02, -4.48223427e-02, -1.03503823e-01,\n",
       "           9.49112978e-03,  1.96124543e-03, -9.89781693e-02,\n",
       "          -7.58330449e-02,  1.39702130e-02, -1.84647739e-01,\n",
       "          -7.67070875e-02, -1.11394022e-02,  5.19339815e-02,\n",
       "          -7.80422613e-02,  4.06203009e-02, -8.73656273e-02,\n",
       "          -5.78116961e-02,  8.03524703e-02]],\n",
       "\n",
       "        [[ 1.31462857e-01, -2.53631622e-02, -7.95922279e-02,\n",
       "           5.45787513e-02,  1.42251868e-02, -1.52550951e-01,\n",
       "           3.05902753e-02, -1.86946347e-01,  4.75982726e-02,\n",
       "          -4.59752716e-02, -8.22835229e-03,  1.05053179e-01,\n",
       "          -9.32646170e-02,  2.46834084e-02,  1.38730258e-01,\n",
       "          -4.83043492e-02, -1.70180008e-01, -1.17025658e-01,\n",
       "          -5.14242835e-02,  5.25967870e-03,  3.44975330e-02,\n",
       "          -9.59553123e-02,  7.72784054e-02, -1.64648235e-01,\n",
       "           4.95887212e-02, -1.32337259e-02, -1.89108402e-02,\n",
       "           1.40355639e-02, -5.63921556e-02,  1.00297295e-01,\n",
       "           4.03576531e-02,  1.06975853e-01]],\n",
       "\n",
       "        [[ 6.24752380e-02, -1.27912432e-01, -1.19468518e-01,\n",
       "           7.21002072e-02,  5.82993142e-02, -1.02870747e-01,\n",
       "          -7.68476650e-02, -1.05328292e-01,  8.42051059e-02,\n",
       "          -1.97060302e-01, -1.51690468e-01,  1.14529304e-01,\n",
       "          -1.24217667e-01,  1.05261885e-01,  1.78536952e-01,\n",
       "           1.02810778e-01, -9.19238999e-02,  5.57572246e-02,\n",
       "          -2.46071741e-02, -4.48093144e-03,  4.29846905e-02,\n",
       "           1.13141432e-01,  3.85345817e-02, -1.10469274e-01,\n",
       "           2.36687623e-03, -5.62107004e-02, -1.04972720e-01,\n",
       "          -3.20649073e-02, -4.00954373e-02, -1.64123217e-03,\n",
       "           9.79498401e-02,  2.81300838e-03]],\n",
       "\n",
       "        [[ 2.09596325e-02, -1.66997015e-01, -1.74390882e-01,\n",
       "           7.45040327e-02,  1.52380597e-02,  7.13535771e-02,\n",
       "          -1.07042439e-01, -6.12674616e-02,  8.65284875e-02,\n",
       "          -2.28551645e-02, -7.63128325e-02,  4.36435863e-02,\n",
       "          -1.64783671e-01, -7.08172023e-02,  1.20584957e-01,\n",
       "           6.64844513e-02, -1.01365946e-01,  5.69225755e-04,\n",
       "           5.30967750e-02,  7.64823481e-02, -5.42359687e-02,\n",
       "           1.39528006e-01, -1.00720800e-01, -1.40494004e-01,\n",
       "           2.56728679e-02,  4.35113199e-02,  8.28102976e-02,\n",
       "           1.09495811e-01,  7.50898868e-02,  5.66945523e-02,\n",
       "           1.08902633e-01, -9.57680866e-02]]],\n",
       "\n",
       "\n",
       "       [[[-1.43231690e-01,  1.58385068e-01, -1.23979263e-01,\n",
       "           5.78514673e-02, -1.27728656e-01,  9.10932720e-02,\n",
       "           5.45813404e-02, -4.34183748e-03, -8.62619355e-02,\n",
       "           9.24539641e-02,  3.32115293e-02,  3.61993164e-02,\n",
       "           1.32156461e-01,  1.84535012e-02,  5.00271246e-02,\n",
       "           6.28012940e-02,  1.97621167e-01,  2.51259785e-02,\n",
       "          -1.34204142e-02, -1.06371015e-01, -4.98461872e-02,\n",
       "          -1.62729964e-01,  6.80711418e-02, -1.62895713e-02,\n",
       "          -5.19640185e-02, -9.36117098e-02, -6.01037815e-02,\n",
       "          -8.32870156e-02, -3.30286883e-02, -8.45080018e-02,\n",
       "          -1.59902453e-01, -1.15980217e-02]],\n",
       "\n",
       "        [[-1.06162630e-01,  1.09442949e-01, -2.49752373e-01,\n",
       "          -1.69661734e-02, -1.40601471e-01,  2.16423459e-02,\n",
       "           9.95798036e-02,  2.99610267e-03,  3.60850245e-02,\n",
       "           1.19901307e-01, -5.20297661e-02,  7.90177584e-02,\n",
       "          -4.57053520e-02,  8.04213807e-03, -6.14762567e-02,\n",
       "           3.48450132e-02,  1.86036527e-01, -9.08836275e-02,\n",
       "           3.41636688e-02, -3.43981571e-03,  5.24503738e-02,\n",
       "          -3.17312032e-02,  1.29202917e-01, -6.53743446e-02,\n",
       "          -2.78081354e-02, -1.96512453e-02, -7.57375509e-02,\n",
       "          -7.40000904e-02,  8.02113265e-02,  1.27520829e-01,\n",
       "          -3.10340691e-02,  8.97758156e-02]],\n",
       "\n",
       "        [[-7.44282827e-02, -1.66416671e-02, -1.93954214e-01,\n",
       "           4.07387922e-03,  1.40062258e-01, -1.52489468e-01,\n",
       "           9.63787809e-02, -1.41250163e-01,  3.32292281e-02,\n",
       "          -8.52181539e-02, -1.47143200e-01,  9.63683892e-03,\n",
       "          -1.13764413e-01,  4.92557511e-02,  3.22763994e-02,\n",
       "           6.95357248e-02,  3.17267105e-02,  3.24079767e-02,\n",
       "           5.87756038e-02,  5.32856174e-02,  8.04164857e-02,\n",
       "          -8.28012377e-02, -6.74189860e-03,  7.46954139e-03,\n",
       "           2.06903853e-02, -3.41988318e-02, -7.79564232e-02,\n",
       "          -1.93726689e-01,  8.70752931e-02,  7.22869858e-02,\n",
       "           1.22212246e-02,  4.30494733e-02]],\n",
       "\n",
       "        [[-3.56380008e-02, -1.18122563e-01, -1.43999100e-01,\n",
       "           1.21655896e-01,  7.24356323e-02, -1.14433408e-01,\n",
       "           6.65617883e-02, -1.53681651e-01, -9.09339520e-04,\n",
       "          -1.75885439e-01, -1.18442804e-01, -6.42616376e-02,\n",
       "          -4.53468487e-02,  1.04850546e-01, -8.10064524e-02,\n",
       "           1.42849162e-01, -5.68071008e-02,  2.92368438e-02,\n",
       "           1.31776765e-01,  2.36374810e-02,  2.72667836e-02,\n",
       "           1.02583572e-01, -1.36331171e-01,  9.64528881e-03,\n",
       "           7.02160597e-03,  1.05749652e-01, -8.39675218e-02,\n",
       "          -1.37237802e-01,  3.95702831e-02, -4.78133485e-02,\n",
       "           7.25715607e-02,  1.71773974e-02]],\n",
       "\n",
       "        [[ 1.04260184e-01, -1.59350827e-01,  1.03069961e-01,\n",
       "          -1.41806938e-02,  2.14884263e-02, -1.30241930e-01,\n",
       "           5.71793728e-02, -5.97587414e-02,  1.19455777e-01,\n",
       "          -1.14609845e-01, -1.41073689e-01, -4.20038626e-02,\n",
       "           1.18131936e-02,  5.16495779e-02,  4.31037322e-02,\n",
       "           1.60383075e-01, -1.19168222e-01,  3.20418403e-02,\n",
       "           1.08291186e-01,  7.72271231e-02,  4.37489860e-02,\n",
       "           9.44083631e-02, -5.25314435e-02, -3.49766947e-02,\n",
       "           3.09099723e-02,  9.10685062e-02, -1.24104461e-02,\n",
       "          -1.26931980e-01,  8.45067725e-02,  1.57011375e-02,\n",
       "           5.12383059e-02,  1.14203691e-02]]],\n",
       "\n",
       "\n",
       "       [[[-1.57001182e-01,  9.00657475e-03, -2.08176687e-01,\n",
       "           1.34554297e-01, -8.22769627e-02,  1.23653106e-01,\n",
       "          -9.17754024e-02,  5.21179847e-02, -1.01102255e-01,\n",
       "           5.54191694e-02,  1.15032159e-01, -7.79822990e-02,\n",
       "           1.47024825e-01,  5.75406663e-02, -1.47066325e-01,\n",
       "           4.93364409e-03,  5.94176650e-02,  4.32519577e-02,\n",
       "          -8.45512524e-02, -1.16378129e-01,  5.11862012e-03,\n",
       "          -1.43105328e-01,  8.81998092e-02, -2.36162078e-03,\n",
       "          -1.27812088e-01,  8.30045417e-02,  2.30474658e-02,\n",
       "           5.91457598e-02, -7.89811313e-02,  1.37524113e-01,\n",
       "          -4.47310582e-02, -7.19246417e-02]],\n",
       "\n",
       "        [[-1.53895885e-01,  9.68695879e-02, -1.59948185e-01,\n",
       "           1.21391274e-01, -1.51378592e-03,  1.14366390e-01,\n",
       "           4.99122553e-02,  1.23537973e-01, -1.96627546e-02,\n",
       "           5.25133833e-02,  9.83514190e-02, -3.62609886e-02,\n",
       "           6.42895177e-02, -1.52179087e-02, -1.76173538e-01,\n",
       "          -2.56446786e-02,  1.87061206e-01,  3.79683040e-02,\n",
       "          -5.17131872e-02,  2.60176435e-02,  2.40500970e-03,\n",
       "          -9.84405726e-02,  7.77608901e-02,  1.04758248e-01,\n",
       "          -7.98982158e-02,  1.25415534e-01, -8.76514986e-02,\n",
       "           8.64267796e-02,  2.98876991e-03,  1.73727512e-01,\n",
       "          -4.77686226e-02, -3.47035080e-02]],\n",
       "\n",
       "        [[-9.71251279e-02, -2.07688957e-02, -2.67211422e-02,\n",
       "          -1.79705322e-02,  2.03123927e-01,  4.51170243e-02,\n",
       "           1.18526623e-01, -3.17659229e-02, -7.83453509e-03,\n",
       "          -4.05500904e-02, -3.70200388e-02,  5.28854206e-02,\n",
       "           1.78602204e-01,  7.78053775e-02, -1.91561192e-01,\n",
       "           3.77766006e-02,  1.34311318e-01,  1.17281914e-01,\n",
       "           9.64373276e-02, -6.67474270e-02,  3.70783061e-02,\n",
       "           1.05179176e-01, -4.25785668e-02,  1.24997623e-01,\n",
       "           2.93636005e-02,  7.94061497e-02,  3.78525406e-02,\n",
       "          -2.87048537e-02, -3.85518186e-02,  2.00188495e-02,\n",
       "           4.88389516e-03,  1.13677554e-01]],\n",
       "\n",
       "        [[-1.31676346e-02, -1.19371094e-01,  1.36328042e-01,\n",
       "           1.48245636e-02,  7.53674954e-02, -1.36763781e-01,\n",
       "          -1.26362061e-02, -7.11067170e-02, -1.32883161e-01,\n",
       "          -1.33401290e-01,  7.19450936e-02,  7.41932243e-02,\n",
       "           6.68743625e-02, -8.21555331e-02, -1.59916118e-01,\n",
       "          -6.62111789e-02,  1.32376403e-01,  1.55542552e-01,\n",
       "           1.33775160e-01,  5.49828447e-02, -1.95000786e-02,\n",
       "           1.12883627e-01,  7.65969791e-03,  2.17066724e-02,\n",
       "           6.06105439e-02,  6.48350567e-02, -8.14468414e-02,\n",
       "          -1.24442145e-01,  2.43885573e-02,  1.03532698e-03,\n",
       "           1.15934566e-01,  7.88343772e-02]],\n",
       "\n",
       "        [[ 1.12934709e-02, -4.55598459e-02,  1.75974816e-01,\n",
       "          -1.22508913e-01, -1.30506799e-01, -4.07520011e-02,\n",
       "          -5.67210317e-02,  9.99674550e-04, -1.03015408e-01,\n",
       "          -7.12678581e-02, -1.39016574e-02,  4.70966054e-03,\n",
       "           1.23006366e-01,  6.85741007e-02, -8.28152820e-02,\n",
       "          -5.62753938e-02,  7.97020271e-02,  1.00457199e-01,\n",
       "          -1.22116990e-02,  9.53897014e-02, -9.66864452e-02,\n",
       "           2.09704321e-02, -7.15428591e-02,  1.31439373e-01,\n",
       "           1.25521734e-01, -8.43253359e-03, -6.51040226e-02,\n",
       "          -1.37348086e-01,  2.00880542e-02, -1.00425057e-01,\n",
       "           1.23765185e-01, -2.72143111e-02]]],\n",
       "\n",
       "\n",
       "       [[[-9.08826590e-02,  3.57124507e-02, -1.51724085e-01,\n",
       "           1.07378028e-01, -6.33887425e-02,  1.13221817e-01,\n",
       "          -1.04161479e-01,  8.45751092e-02, -4.51524444e-02,\n",
       "           8.47101435e-02,  1.42933339e-01,  1.98169146e-03,\n",
       "           1.53431669e-01,  6.35313913e-02, -1.14347324e-01,\n",
       "          -1.39748469e-01, -1.20345078e-01,  7.56817982e-02,\n",
       "           2.84182373e-02, -4.68704589e-02, -3.84812132e-02,\n",
       "          -5.32497317e-02,  5.67769259e-02,  1.54559270e-01,\n",
       "           3.41279060e-03,  1.32394657e-01, -6.00282997e-02,\n",
       "          -4.58959788e-02, -1.32434070e-01,  1.04556598e-01,\n",
       "          -7.42055252e-02, -4.77233902e-02]],\n",
       "\n",
       "        [[ 4.37617637e-02,  6.61453083e-02, -1.43249135e-03,\n",
       "           2.96000857e-03,  1.27754018e-01,  1.23329215e-01,\n",
       "          -9.67887789e-02,  1.30770847e-01, -1.98780507e-01,\n",
       "           5.91478944e-02,  8.94158408e-02, -5.39683774e-02,\n",
       "           3.70675772e-02,  1.66321564e-02, -1.72626704e-01,\n",
       "          -9.00791585e-02,  2.12901575e-03,  8.13532546e-02,\n",
       "           5.02519347e-02,  6.22213557e-02,  4.32995521e-02,\n",
       "          -4.60774004e-02, -1.17941517e-02,  1.10104017e-01,\n",
       "          -6.96952119e-02,  6.94797784e-02, -2.45605707e-02,\n",
       "           1.18816532e-01, -1.03329793e-01, -3.74489576e-02,\n",
       "           1.95024163e-02,  7.36864377e-03]],\n",
       "\n",
       "        [[-5.50590008e-02,  5.07156439e-02,  1.94161594e-01,\n",
       "           1.12507036e-02,  5.05105406e-02,  1.21097781e-01,\n",
       "           1.95887052e-02,  1.89083129e-01, -1.32612765e-01,\n",
       "          -6.68628439e-02,  7.85933509e-02,  7.92988390e-02,\n",
       "           1.25423938e-01, -2.73940396e-02, -2.10008696e-01,\n",
       "          -1.38456449e-01,  9.41933542e-02, -7.72756115e-02,\n",
       "           6.54326379e-02,  6.87493384e-02,  6.18549474e-02,\n",
       "           7.99969882e-02,  4.24716771e-02,  4.30595018e-02,\n",
       "          -5.78410737e-02,  3.63136418e-02,  4.53395881e-02,\n",
       "           1.01962648e-01,  4.41905577e-03, -2.08622441e-02,\n",
       "           2.60365102e-03, -2.04200409e-02]],\n",
       "\n",
       "        [[ 1.37581229e-02, -5.55633157e-02,  1.54553652e-01,\n",
       "          -7.68548772e-02, -1.19822219e-01, -3.32189426e-02,\n",
       "           6.28379956e-02,  1.49672955e-01, -9.42547694e-02,\n",
       "          -1.33884788e-01,  1.50275826e-01,  1.14813335e-02,\n",
       "           1.70088947e-01, -6.79693967e-02, -1.18218653e-01,\n",
       "          -1.77928343e-01,  8.27443227e-02,  4.95648533e-02,\n",
       "           1.43128121e-02,  1.04826733e-01, -8.13059323e-03,\n",
       "           1.09613106e-01, -4.86588180e-02,  8.51889327e-02,\n",
       "          -4.99216169e-02,  9.58772600e-02, -6.96927980e-02,\n",
       "           7.48861209e-02, -1.00728758e-01, -9.48086083e-02,\n",
       "           1.28151894e-01,  1.39602527e-01]],\n",
       "\n",
       "        [[-7.16707706e-02, -4.35304642e-02,  1.19430888e-02,\n",
       "           5.40343374e-02, -1.68872610e-01, -8.94109160e-02,\n",
       "           1.70884107e-03,  6.24239594e-02, -4.73346747e-02,\n",
       "           8.04811195e-02,  2.98072360e-02, -9.59884971e-02,\n",
       "           5.13801314e-02,  2.03255452e-02,  1.76706929e-02,\n",
       "          -1.49216861e-01,  8.13426636e-03,  5.31149916e-02,\n",
       "           7.77229071e-02,  1.00285746e-01,  3.87836881e-02,\n",
       "           1.31300136e-01, -1.57064479e-02,  8.13614354e-02,\n",
       "           8.90902728e-02, -2.15666369e-02, -1.00220345e-01,\n",
       "           2.60312371e-02,  2.87553109e-02, -1.56934261e-01,\n",
       "           5.35625257e-02,  6.13975488e-02]]]], dtype=float32)"
      ]
     },
     "execution_count": 12,
     "metadata": {},
     "output_type": "execute_result"
    }
   ],
   "source": [
    "model.layers[1].get_weights()[0]"
   ]
  },
  {
   "cell_type": "code",
   "execution_count": null,
   "metadata": {},
   "outputs": [],
   "source": []
  }
 ],
 "metadata": {
  "kernelspec": {
   "display_name": "Python 3",
   "language": "python",
   "name": "python3"
  },
  "language_info": {
   "codemirror_mode": {
    "name": "ipython",
    "version": 3
   },
   "file_extension": ".py",
   "mimetype": "text/x-python",
   "name": "python",
   "nbconvert_exporter": "python",
   "pygments_lexer": "ipython3",
   "version": "3.6.6"
  }
 },
 "nbformat": 4,
 "nbformat_minor": 2
}
