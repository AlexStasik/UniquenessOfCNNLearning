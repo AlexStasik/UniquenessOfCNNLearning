{
 "cells": [
  {
   "cell_type": "code",
   "execution_count": 1,
   "metadata": {},
   "outputs": [
    {
     "name": "stderr",
     "output_type": "stream",
     "text": [
      "Using TensorFlow backend.\n"
     ]
    }
   ],
   "source": [
    "from __future__ import print_function\n",
    "import keras\n",
    "from keras.datasets import cifar10\n",
    "from keras.models import Model, Sequential\n",
    "from keras.layers import Dense, Dropout, Flatten, Conv2D, MaxPooling2D, Input, Dense\n",
    "from keras import backend as K\n",
    "from keras.preprocessing.image import ImageDataGenerator\n",
    "from keras.callbacks import ModelCheckpoint\n",
    "from keras.initializers import glorot_uniform, RandomNormal\n",
    "import random, os, pickle, copy\n",
    "import matplotlib.pyplot as plt\n",
    "import numpy as np\n",
    "from scipy.linalg import lstsq\n",
    "%matplotlib inline\n",
    "savedir = os.path.join('./save/transfer_learning_cifar5_multiple_instantiations')"
   ]
  },
  {
   "cell_type": "markdown",
   "metadata": {},
   "source": [
    "# SET UP DATA"
   ]
  },
  {
   "cell_type": "code",
   "execution_count": 2,
   "metadata": {},
   "outputs": [],
   "source": [
    "def map_to_range(arr):\n",
    "    narr = np.zeros_like(arr, dtype=np.int64)\n",
    "    vals = np.unique(arr)\n",
    "    for i, v in enumerate(vals):\n",
    "        mask = (arr == v)\n",
    "        narr[mask] = i\n",
    "    return narr"
   ]
  },
  {
   "cell_type": "code",
   "execution_count": 3,
   "metadata": {
    "scrolled": true
   },
   "outputs": [
    {
     "name": "stdout",
     "output_type": "stream",
     "text": [
      "x_train shape: (50000, 32, 32, 3)\n",
      "50000 train samples\n",
      "10000 test samples\n"
     ]
    }
   ],
   "source": [
    "(x_train, y_train), (x_test, y_test) = cifar10.load_data()\n",
    "x_train = x_train.astype('float32')\n",
    "x_test = x_test.astype('float32')\n",
    "x_train /= 255\n",
    "x_test /= 255\n",
    "print('x_train shape:', x_train.shape)\n",
    "print(x_train.shape[0], 'train samples')\n",
    "print(x_test.shape[0], 'test samples')\n",
    "input_shape = (32, 32, 3)\n",
    "num_classes = 5\n",
    "\n",
    "y_test = y_test.astype(np.int64).squeeze()\n",
    "y_train = y_train.astype(np.int64).squeeze()\n",
    "\n",
    "# labels found to give roughly equal classification performance\n",
    "set_1_test_mask = np.isin(y_test, np.array([0, 3, 4, 6, 7])).squeeze()\n",
    "set_1_train_mask = np.isin(y_train, np.array([0, 3, 4, 6, 7])).squeeze()\n",
    "\n",
    "set_2_test_mask = np.isin(y_test, np.array([1, 2, 5, 8, 9])).squeeze()\n",
    "set_2_train_mask = np.isin(y_train, np.array([1, 2, 5, 8, 9])).squeeze()\n",
    "\n",
    "set_1_train_labels = y_train[set_1_train_mask]\n",
    "x_train_1 = x_train[set_1_train_mask]\n",
    "set_1_test_labels = y_test[set_1_test_mask]\n",
    "x_test_1 = x_test[set_1_test_mask]\n",
    "set_2_train_labels = y_train[set_2_train_mask]\n",
    "x_train_2 = x_train[set_2_train_mask]\n",
    "set_2_test_labels = y_test[set_2_test_mask]\n",
    "x_test_2 = x_test[set_2_test_mask]\n",
    "\n",
    "y_train_1 = keras.utils.to_categorical(map_to_range(set_1_train_labels), num_classes)\n",
    "y_train_2 = keras.utils.to_categorical(map_to_range(set_2_train_labels), num_classes)\n",
    "y_test_1 = keras.utils.to_categorical(map_to_range(set_1_test_labels), num_classes)\n",
    "y_test_2 = keras.utils.to_categorical(map_to_range(set_2_test_labels), num_classes)"
   ]
  },
  {
   "cell_type": "code",
   "execution_count": 4,
   "metadata": {},
   "outputs": [],
   "source": [
    "datagen1 = ImageDataGenerator(\n",
    "    rotation_range=15,\n",
    "    width_shift_range=0.1,\n",
    "    height_shift_range=0.1,\n",
    "    horizontal_flip=True\n",
    "    )\n",
    "datagen1.fit(x_train_1)\n",
    "\n",
    "datagen2= ImageDataGenerator(\n",
    "    rotation_range=15,\n",
    "    width_shift_range=0.1,\n",
    "    height_shift_range=0.1,\n",
    "    horizontal_flip=True\n",
    "    )\n",
    "datagen2.fit(x_train_2)"
   ]
  },
  {
   "cell_type": "code",
   "execution_count": 14,
   "metadata": {},
   "outputs": [],
   "source": [
    "def set_up_model(lr=1e-3, trainable=[True, True, True, True]):\n",
    "    keras.backend.clear_session()\n",
    "    inputs = Input(shape=input_shape)\n",
    "    x = Conv2D(4, kernel_size=(7,7), strides=(1, 1), activation='relu', padding='same', trainable=trainable[0])(inputs)\n",
    "    x = MaxPooling2D(pool_size=(2,2), strides=(2,2))(x)\n",
    "    x = Conv2D(8, kernel_size=(3,3), strides=(1, 1), activation='relu', padding='same', trainable=trainable[1])(x)\n",
    "    x = MaxPooling2D(pool_size=(2,2), strides=(2,2))(x)\n",
    "    x = Conv2D(16, kernel_size=(3,3), strides=(1, 1), activation='relu', padding='same', trainable=trainable[2])(x)\n",
    "    x = MaxPooling2D(pool_size=(2,2), strides=(2,2))(x)\n",
    "    x = Flatten()(x)\n",
    "    x = Dense(128, activation='relu', trainable=trainable[3])(x)\n",
    "    x = Dropout(0.5)(x)\n",
    "    predictions = Dense(5, activation='softmax')(x)\n",
    "    model = Model(inputs=inputs, outputs=predictions)\n",
    "    model.compile(loss=keras.losses.categorical_crossentropy,\n",
    "                  optimizer=keras.optimizers.Adam(lr=lr),\n",
    "                  metrics=['accuracy'])\n",
    "    return model"
   ]
  },
  {
   "cell_type": "markdown",
   "metadata": {},
   "source": [
    "# Multiple instantiations of transfer learning\n",
    "\n",
    "Using first-layer filters trained on dset2 were able to match performance on dset1 compared to first-layer filters trained on dset1, but not the other way around. Doing this procedure 10 times to see if the results are stable."
   ]
  },
  {
   "cell_type": "code",
   "execution_count": 12,
   "metadata": {
    "collapsed": true
   },
   "outputs": [
    {
     "ename": "OSError",
     "evalue": "Unable to open file (unable to open file: name = './save/transfer_learning_cifar5_multiple_instantiations/weights_dset1_original.h5', errno = 2, error message = 'No such file or directory', flags = 0, o_flags = 0)",
     "output_type": "error",
     "traceback": [
      "\u001b[0;31m---------------------------------------------------------------------------\u001b[0m",
      "\u001b[0;31mOSError\u001b[0m                                   Traceback (most recent call last)",
      "\u001b[0;32m<ipython-input-12-ef0d299bca4c>\u001b[0m in \u001b[0;36m<module>\u001b[0;34m()\u001b[0m\n\u001b[1;32m      3\u001b[0m \u001b[0;34m\u001b[0m\u001b[0m\n\u001b[1;32m      4\u001b[0m \u001b[0mmodel\u001b[0m \u001b[0;34m=\u001b[0m \u001b[0mset_up_model\u001b[0m\u001b[0;34m(\u001b[0m\u001b[0mtrainable\u001b[0m\u001b[0;34m=\u001b[0m\u001b[0;34m[\u001b[0m\u001b[0;32mFalse\u001b[0m\u001b[0;34m,\u001b[0m \u001b[0;32mTrue\u001b[0m\u001b[0;34m,\u001b[0m \u001b[0;32mTrue\u001b[0m\u001b[0;34m,\u001b[0m \u001b[0;32mTrue\u001b[0m\u001b[0;34m]\u001b[0m\u001b[0;34m)\u001b[0m\u001b[0;34m\u001b[0m\u001b[0m\n\u001b[0;32m----> 5\u001b[0;31m \u001b[0mmodel\u001b[0m\u001b[0;34m.\u001b[0m\u001b[0mload_weights\u001b[0m\u001b[0;34m(\u001b[0m\u001b[0mos\u001b[0m\u001b[0;34m.\u001b[0m\u001b[0mpath\u001b[0m\u001b[0;34m.\u001b[0m\u001b[0mjoin\u001b[0m\u001b[0;34m(\u001b[0m\u001b[0msavedir\u001b[0m\u001b[0;34m,\u001b[0m \u001b[0;34m'weights_dset1_original.h5'\u001b[0m\u001b[0;34m)\u001b[0m\u001b[0;34m)\u001b[0m\u001b[0;34m\u001b[0m\u001b[0m\n\u001b[0m\u001b[1;32m      6\u001b[0m \u001b[0morig_weights\u001b[0m \u001b[0;34m=\u001b[0m \u001b[0mmodel\u001b[0m\u001b[0;34m.\u001b[0m\u001b[0mget_weights\u001b[0m\u001b[0;34m(\u001b[0m\u001b[0;34m)\u001b[0m\u001b[0;34m\u001b[0m\u001b[0m\n\u001b[1;32m      7\u001b[0m \u001b[0mnweights\u001b[0m \u001b[0;34m=\u001b[0m \u001b[0mcopy\u001b[0m\u001b[0;34m.\u001b[0m\u001b[0mdeepcopy\u001b[0m\u001b[0;34m(\u001b[0m\u001b[0morig_weights\u001b[0m\u001b[0;34m[\u001b[0m\u001b[0;34m:\u001b[0m\u001b[0;36m2\u001b[0m\u001b[0;34m]\u001b[0m\u001b[0;34m)\u001b[0m\u001b[0;34m\u001b[0m\u001b[0m\n",
      "\u001b[0;32m~/Documents/TensorFlow/tensorflow/lib/python3.5/site-packages/keras/engine/network.py\u001b[0m in \u001b[0;36mload_weights\u001b[0;34m(self, filepath, by_name, skip_mismatch, reshape)\u001b[0m\n\u001b[1;32m   1155\u001b[0m         \u001b[0;32mif\u001b[0m \u001b[0mh5py\u001b[0m \u001b[0;32mis\u001b[0m \u001b[0;32mNone\u001b[0m\u001b[0;34m:\u001b[0m\u001b[0;34m\u001b[0m\u001b[0m\n\u001b[1;32m   1156\u001b[0m             \u001b[0;32mraise\u001b[0m \u001b[0mImportError\u001b[0m\u001b[0;34m(\u001b[0m\u001b[0;34m'`load_weights` requires h5py.'\u001b[0m\u001b[0;34m)\u001b[0m\u001b[0;34m\u001b[0m\u001b[0m\n\u001b[0;32m-> 1157\u001b[0;31m         \u001b[0;32mwith\u001b[0m \u001b[0mh5py\u001b[0m\u001b[0;34m.\u001b[0m\u001b[0mFile\u001b[0m\u001b[0;34m(\u001b[0m\u001b[0mfilepath\u001b[0m\u001b[0;34m,\u001b[0m \u001b[0mmode\u001b[0m\u001b[0;34m=\u001b[0m\u001b[0;34m'r'\u001b[0m\u001b[0;34m)\u001b[0m \u001b[0;32mas\u001b[0m \u001b[0mf\u001b[0m\u001b[0;34m:\u001b[0m\u001b[0;34m\u001b[0m\u001b[0m\n\u001b[0m\u001b[1;32m   1158\u001b[0m             \u001b[0;32mif\u001b[0m \u001b[0;34m'layer_names'\u001b[0m \u001b[0;32mnot\u001b[0m \u001b[0;32min\u001b[0m \u001b[0mf\u001b[0m\u001b[0;34m.\u001b[0m\u001b[0mattrs\u001b[0m \u001b[0;32mand\u001b[0m \u001b[0;34m'model_weights'\u001b[0m \u001b[0;32min\u001b[0m \u001b[0mf\u001b[0m\u001b[0;34m:\u001b[0m\u001b[0;34m\u001b[0m\u001b[0m\n\u001b[1;32m   1159\u001b[0m                 \u001b[0mf\u001b[0m \u001b[0;34m=\u001b[0m \u001b[0mf\u001b[0m\u001b[0;34m[\u001b[0m\u001b[0;34m'model_weights'\u001b[0m\u001b[0;34m]\u001b[0m\u001b[0;34m\u001b[0m\u001b[0m\n",
      "\u001b[0;32m~/Documents/TensorFlow/tensorflow/lib/python3.5/site-packages/h5py/_hl/files.py\u001b[0m in \u001b[0;36m__init__\u001b[0;34m(self, name, mode, driver, libver, userblock_size, swmr, **kwds)\u001b[0m\n\u001b[1;32m    310\u001b[0m             \u001b[0;32mwith\u001b[0m \u001b[0mphil\u001b[0m\u001b[0;34m:\u001b[0m\u001b[0;34m\u001b[0m\u001b[0m\n\u001b[1;32m    311\u001b[0m                 \u001b[0mfapl\u001b[0m \u001b[0;34m=\u001b[0m \u001b[0mmake_fapl\u001b[0m\u001b[0;34m(\u001b[0m\u001b[0mdriver\u001b[0m\u001b[0;34m,\u001b[0m \u001b[0mlibver\u001b[0m\u001b[0;34m,\u001b[0m \u001b[0;34m**\u001b[0m\u001b[0mkwds\u001b[0m\u001b[0;34m)\u001b[0m\u001b[0;34m\u001b[0m\u001b[0m\n\u001b[0;32m--> 312\u001b[0;31m                 \u001b[0mfid\u001b[0m \u001b[0;34m=\u001b[0m \u001b[0mmake_fid\u001b[0m\u001b[0;34m(\u001b[0m\u001b[0mname\u001b[0m\u001b[0;34m,\u001b[0m \u001b[0mmode\u001b[0m\u001b[0;34m,\u001b[0m \u001b[0muserblock_size\u001b[0m\u001b[0;34m,\u001b[0m \u001b[0mfapl\u001b[0m\u001b[0;34m,\u001b[0m \u001b[0mswmr\u001b[0m\u001b[0;34m=\u001b[0m\u001b[0mswmr\u001b[0m\u001b[0;34m)\u001b[0m\u001b[0;34m\u001b[0m\u001b[0m\n\u001b[0m\u001b[1;32m    313\u001b[0m \u001b[0;34m\u001b[0m\u001b[0m\n\u001b[1;32m    314\u001b[0m                 \u001b[0;32mif\u001b[0m \u001b[0mswmr_support\u001b[0m\u001b[0;34m:\u001b[0m\u001b[0;34m\u001b[0m\u001b[0m\n",
      "\u001b[0;32m~/Documents/TensorFlow/tensorflow/lib/python3.5/site-packages/h5py/_hl/files.py\u001b[0m in \u001b[0;36mmake_fid\u001b[0;34m(name, mode, userblock_size, fapl, fcpl, swmr)\u001b[0m\n\u001b[1;32m    140\u001b[0m         \u001b[0;32mif\u001b[0m \u001b[0mswmr\u001b[0m \u001b[0;32mand\u001b[0m \u001b[0mswmr_support\u001b[0m\u001b[0;34m:\u001b[0m\u001b[0;34m\u001b[0m\u001b[0m\n\u001b[1;32m    141\u001b[0m             \u001b[0mflags\u001b[0m \u001b[0;34m|=\u001b[0m \u001b[0mh5f\u001b[0m\u001b[0;34m.\u001b[0m\u001b[0mACC_SWMR_READ\u001b[0m\u001b[0;34m\u001b[0m\u001b[0m\n\u001b[0;32m--> 142\u001b[0;31m         \u001b[0mfid\u001b[0m \u001b[0;34m=\u001b[0m \u001b[0mh5f\u001b[0m\u001b[0;34m.\u001b[0m\u001b[0mopen\u001b[0m\u001b[0;34m(\u001b[0m\u001b[0mname\u001b[0m\u001b[0;34m,\u001b[0m \u001b[0mflags\u001b[0m\u001b[0;34m,\u001b[0m \u001b[0mfapl\u001b[0m\u001b[0;34m=\u001b[0m\u001b[0mfapl\u001b[0m\u001b[0;34m)\u001b[0m\u001b[0;34m\u001b[0m\u001b[0m\n\u001b[0m\u001b[1;32m    143\u001b[0m     \u001b[0;32melif\u001b[0m \u001b[0mmode\u001b[0m \u001b[0;34m==\u001b[0m \u001b[0;34m'r+'\u001b[0m\u001b[0;34m:\u001b[0m\u001b[0;34m\u001b[0m\u001b[0m\n\u001b[1;32m    144\u001b[0m         \u001b[0mfid\u001b[0m \u001b[0;34m=\u001b[0m \u001b[0mh5f\u001b[0m\u001b[0;34m.\u001b[0m\u001b[0mopen\u001b[0m\u001b[0;34m(\u001b[0m\u001b[0mname\u001b[0m\u001b[0;34m,\u001b[0m \u001b[0mh5f\u001b[0m\u001b[0;34m.\u001b[0m\u001b[0mACC_RDWR\u001b[0m\u001b[0;34m,\u001b[0m \u001b[0mfapl\u001b[0m\u001b[0;34m=\u001b[0m\u001b[0mfapl\u001b[0m\u001b[0;34m)\u001b[0m\u001b[0;34m\u001b[0m\u001b[0m\n",
      "\u001b[0;32mh5py/_objects.pyx\u001b[0m in \u001b[0;36mh5py._objects.with_phil.wrapper\u001b[0;34m()\u001b[0m\n",
      "\u001b[0;32mh5py/_objects.pyx\u001b[0m in \u001b[0;36mh5py._objects.with_phil.wrapper\u001b[0;34m()\u001b[0m\n",
      "\u001b[0;32mh5py/h5f.pyx\u001b[0m in \u001b[0;36mh5py.h5f.open\u001b[0;34m()\u001b[0m\n",
      "\u001b[0;31mOSError\u001b[0m: Unable to open file (unable to open file: name = './save/transfer_learning_cifar5_multiple_instantiations/weights_dset1_original.h5', errno = 2, error message = 'No such file or directory', flags = 0, o_flags = 0)"
     ]
    }
   ],
   "source": [
    "epochs = 1\n",
    "batch_size = 128\n",
    "\n",
    "for i in range(10):\n",
    "    ##### DSET1 #####\n",
    "    # Train model from scratch\n",
    "    model = set_up_model(trainable=[True, True, True, True])\n",
    "    ckpt_training = ModelCheckpoint(os.path.join(savedir, 'weights_training_dset1_%d.h5'%i), \n",
    "                                    monitor='val_loss', \n",
    "                                    verbose=0, \n",
    "                                    save_best_only=True, \n",
    "                                    save_weights_only=False,\n",
    "                                    mode='auto', \n",
    "                                    period=1\n",
    "                                   )\n",
    "    \n",
    "    history_training_dset1 = model.fit_generator(datagen1.flow(x_train_1, y_train_1, batch_size=batch_size),\n",
    "                                  epochs=epochs,\n",
    "                                  verbose=2,\n",
    "                                  validation_data=(x_test_1, y_test_1),\n",
    "                                  callbacks=[ckpt_training]\n",
    "                                  )\n",
    "    with open(os.path.join(savedir, 'history_training_dset1_%d.pkl'%i), 'wb') as f:\n",
    "        pickle.dump(history_training_dset1.history, f)\n",
    "    \n",
    "    # Freeze first layer and load best performing network state\n",
    "    model = set_up_model(trainable=[False, True, True, True])\n",
    "    model.load_weights(os.path.join(savedir, 'weights_training_dset1_%d.h5'%i)\n",
    "    orig_weights = model.get_weights()\n",
    "    nweights = copy.deepcopy(orig_weights[:2])\n",
    "    for w in orig_weights[2:]:\n",
    "        nweights.append(glorot_uniform()(w.shape).eval(session=keras.backend.get_session()))\n",
    "    model.set_weights(nweights)\n",
    "    ckpt_transfer = ModelCheckpoint(os.path.join(savedir, 'weights_transfer_dset1_dset2.h5'), \n",
    "                                    monitor='val_loss', \n",
    "                                    verbose=0, \n",
    "                                    save_best_only=True, \n",
    "                                    save_weights_only=False, \n",
    "                                    mode='auto', \n",
    "                                    period=1)\n",
    "                       \n",
    "    history_transfer_dset1 = model.fit_generator(datagen2.flow(x_train_2, y_train_2, batch_size=batch_size),\n",
    "                                                 epochs=epochs,\n",
    "                                                 verbose=2,\n",
    "                                                 validation_data=(x_test_2, y_test_2),\n",
    "                                                 callbacks=[ckpt_dset1_transfer]\n",
    "                                                 )\n",
    "\n",
    "    with open(os.path.join(savedir, 'history_transfer_dset1_dset2_%d.pkl'%i), 'wb') as f:\n",
    "        pickle.dump(history_transfer_dset1.history, f)\n",
    "                       \n",
    "                       \n",
    "                       \n",
    "                       \n",
    "    #### DSET2 #####\n",
    "    # Train model from scratch\n",
    "    model = set_up_model(trainable=[True, True, True, True])\n",
    "    ckpt_training = ModelCheckpoint(os.path.join(savedir, 'weights_training_dset2_%d.h5'%i), \n",
    "                                    monitor='val_loss', \n",
    "                                    verbose=0, \n",
    "                                    save_best_only=True, \n",
    "                                    save_weights_only=False,\n",
    "                                    mode='auto', \n",
    "                                    period=1\n",
    "                                   )\n",
    "    \n",
    "    history_training_dset2 = model.fit_generator(datagen2.flow(x_train_2, y_train_2, batch_size=batch_size),\n",
    "                                                 epochs=epochs,\n",
    "                                                 verbose=2,\n",
    "                                                 validation_data=(x_test_2, y_test_2),\n",
    "                                                 callbacks=[ckpt_training]\n",
    "                                                 )\n",
    "                       \n",
    "    with open(os.path.join(savedir, 'history_training_dset2_%d.pkl'%i), 'wb') as f:\n",
    "        pickle.dump(history_training_dset2.history, f)\n",
    "    \n",
    "    # Freeze first layer and load best performing network state\n",
    "    model = set_up_model(trainable=[False, True, True, True])\n",
    "    model.load_weights(os.path.join(savedir, 'weights_training_dset2_%d.h5'%i)\n",
    "    orig_weights = model.get_weights()\n",
    "    nweights = copy.deepcopy(orig_weights[:2])\n",
    "    for w in orig_weights[2:]:\n",
    "        nweights.append(glorot_uniform()(w.shape).eval(session=keras.backend.get_session()))\n",
    "    model.set_weights(nweights)\n",
    "    ckpt_transfer = ModelCheckpoint(os.path.join(savedir, 'weights_transfer_dset2_dset1.h5'), \n",
    "                                    monitor='val_loss', \n",
    "                                    verbose=0, \n",
    "                                    save_best_only=True, \n",
    "                                    save_weights_only=False, \n",
    "                                    mode='auto', \n",
    "                                    period=1\n",
    "                                   )\n",
    "                       \n",
    "    history_transfer_dset2 = model.fit_generator(datagen1.flow(x_train_1, y_train_1, batch_size=batch_size),\n",
    "                                                 epochs=epochs,\n",
    "                                                 verbose=2,\n",
    "                                                 validation_data=(x_test_1, y_test_1),\n",
    "                                                 callbacks=[ckpt_dset1_transfer]\n",
    "                                                 )\n",
    "\n",
    "    with open(os.path.join(savedir, 'history_transfer_dset2_dset1_%d.pkl'%i), 'wb') as f:\n",
    "        pickle.dump(history_transfer_dset2.history, f)"
   ]
  },
  {
   "cell_type": "code",
   "execution_count": 17,
   "metadata": {},
   "outputs": [
    {
     "name": "stdout",
     "output_type": "stream",
     "text": [
      "Epoch 1/1\n",
      " - 23s - loss: 12.8444 - acc: 0.1996 - val_loss: 12.8945 - val_acc: 0.2000\n",
      "Epoch 1/1\n",
      " - 24s - loss: 1.7272 - acc: 0.2059 - val_loss: 1.6151 - val_acc: 0.2000\n",
      "Epoch 1/1\n",
      " - 24s - loss: 1.3386 - acc: 0.4301 - val_loss: 1.2022 - val_acc: 0.4946\n",
      "Epoch 1/1\n",
      " - 24s - loss: 1.6129 - acc: 0.2007 - val_loss: 1.6097 - val_acc: 0.2000\n",
      "Epoch 1/1\n",
      " - 24s - loss: 1.3752 - acc: 0.4095 - val_loss: 1.2127 - val_acc: 0.5092\n",
      "Epoch 1/1\n",
      " - 24s - loss: 1.4530 - acc: 0.3612 - val_loss: 1.2466 - val_acc: 0.4946\n",
      "Epoch 1/1\n",
      " - 24s - loss: 1.5843 - acc: 0.2608 - val_loss: 1.4976 - val_acc: 0.3704\n",
      "Epoch 1/1\n",
      " - 24s - loss: 1.6026 - acc: 0.2332 - val_loss: 1.5641 - val_acc: 0.3066\n",
      "Epoch 1/1\n",
      " - 24s - loss: 1.6096 - acc: 0.2086 - val_loss: 1.5879 - val_acc: 0.2004\n",
      "Epoch 1/1\n",
      " - 24s - loss: 1.6134 - acc: 0.2177 - val_loss: 1.6075 - val_acc: 0.2298\n",
      "Epoch 1/1\n",
      " - 25s - loss: 1.6120 - acc: 0.2170 - val_loss: 1.6061 - val_acc: 0.2320\n"
     ]
    }
   ],
   "source": [
    "lr_histories = []\n",
    "epochs = 150\n",
    "batch_size = 128\n",
    "lrs = [1e-2, 5e-3, 1e-3, 5e-4, 1e-4, 5e-5, 1e-5, 5e-6, 1e-6]\n",
    "for i, lr in enumerate(lrs):\n",
    "    model = set_up_model(lr=lr)\n",
    "    history = model.fit_generator(datagen1.flow(x_train_1, y_train_1, batch_size=batch_size),\n",
    "                                  epochs=epochs, verbose=2, validation_data = (x_test_1, y_test_1))\n",
    "    lr_histories.append(history.history)\n",
    "with open(os.path.join(savedir, 'lr_histories.pkl'), 'wb') as f:\n",
    "    pickle.dump(lr_histories, f)"
   ]
  }
 ],
 "metadata": {
  "kernelspec": {
   "display_name": "Python 3",
   "language": "python",
   "name": "python3"
  },
  "language_info": {
   "codemirror_mode": {
    "name": "ipython",
    "version": 3
   },
   "file_extension": ".py",
   "mimetype": "text/x-python",
   "name": "python",
   "nbconvert_exporter": "python",
   "pygments_lexer": "ipython3",
   "version": "3.5.2"
  }
 },
 "nbformat": 4,
 "nbformat_minor": 2
}
