{
 "cells": [
  {
   "cell_type": "code",
   "execution_count": null,
   "metadata": {
    "scrolled": false
   },
   "outputs": [],
   "source": [
    "from __future__ import print_function\n",
    "import keras\n",
    "from keras.datasets import cifar10\n",
    "from keras.models import Model, Sequential\n",
    "from keras.layers import Dense, Dropout, Flatten, Conv2D, MaxPooling2D, Input, Dense\n",
    "from keras import backend as K\n",
    "from keras.preprocessing.image import ImageDataGenerator\n",
    "from keras.callbacks import ModelCheckpoint\n",
    "from keras.initializers import glorot_uniform, RandomNormal\n",
    "import random, os, pickle, copy\n",
    "import matplotlib.pyplot as plt\n",
    "import matplotlib.gridspec as gridspec\n",
    "import numpy as np\n",
    "%matplotlib inline\n",
    "savedir = os.path.join('./save/transfer_learning_cifar5_multiple_instantiations_small')\n",
    "fig_dir = os.path.join(os.getenv('HOME'), 'Dropbox/uniqueness_cnn_figures')"
   ]
  },
  {
   "cell_type": "markdown",
   "metadata": {},
   "source": [
    "# SET UP DATA"
   ]
  },
  {
   "cell_type": "code",
   "execution_count": null,
   "metadata": {},
   "outputs": [],
   "source": [
    "def map_to_range(arr):\n",
    "    narr = np.zeros_like(arr, dtype=np.int64)\n",
    "    vals = np.unique(arr)\n",
    "    for i, v in enumerate(vals):\n",
    "        mask = (arr == v)\n",
    "        narr[mask] = i\n",
    "    return narr"
   ]
  },
  {
   "cell_type": "code",
   "execution_count": null,
   "metadata": {
    "scrolled": true
   },
   "outputs": [],
   "source": [
    "(x_train, y_train), (x_test, y_test) = cifar10.load_data()\n",
    "x_train = x_train.astype('float32')\n",
    "x_test = x_test.astype('float32')\n",
    "x_train /= 255\n",
    "x_test /= 255\n",
    "print('x_train shape:', x_train.shape)\n",
    "print(x_train.shape[0], 'train samples')\n",
    "print(x_test.shape[0], 'test samples')\n",
    "input_shape = (32, 32, 3)\n",
    "num_classes = 5\n",
    "\n",
    "y_test = y_test.astype(np.int64).squeeze()\n",
    "y_train = y_train.astype(np.int64).squeeze()\n",
    "\n",
    "# labels found to give roughly equal classification performance\n",
    "set_1_test_mask = np.isin(y_test, np.array([0, 3, 4, 6, 7])).squeeze()\n",
    "set_1_train_mask = np.isin(y_train, np.array([0, 3, 4, 6, 7])).squeeze()\n",
    "\n",
    "set_2_test_mask = np.isin(y_test, np.array([1, 2, 5, 8, 9])).squeeze()\n",
    "set_2_train_mask = np.isin(y_train, np.array([1, 2, 5, 8, 9])).squeeze()\n",
    "\n",
    "set_1_train_labels = y_train[set_1_train_mask]\n",
    "x_train_1 = x_train[set_1_train_mask]\n",
    "set_1_test_labels = y_test[set_1_test_mask]\n",
    "x_test_1 = x_test[set_1_test_mask]\n",
    "set_2_train_labels = y_train[set_2_train_mask]\n",
    "x_train_2 = x_train[set_2_train_mask]\n",
    "set_2_test_labels = y_test[set_2_test_mask]\n",
    "x_test_2 = x_test[set_2_test_mask]\n",
    "\n",
    "y_train_1 = keras.utils.to_categorical(map_to_range(set_1_train_labels), num_classes)\n",
    "y_train_2 = keras.utils.to_categorical(map_to_range(set_2_train_labels), num_classes)\n",
    "y_test_1 = keras.utils.to_categorical(map_to_range(set_1_test_labels), num_classes)\n",
    "y_test_2 = keras.utils.to_categorical(map_to_range(set_2_test_labels), num_classes)"
   ]
  },
  {
   "cell_type": "code",
   "execution_count": null,
   "metadata": {
    "scrolled": true
   },
   "outputs": [],
   "source": [
    "np.unique(y_test, return_index=True)"
   ]
  },
  {
   "cell_type": "code",
   "execution_count": null,
   "metadata": {},
   "outputs": [],
   "source": [
    "datagen = ImageDataGenerator(rotation_range=10,\n",
    "                             width_shift_range=0.05,\n",
    "                             height_shift_range=0.05,\n",
    "                             horizontal_flip=True\n",
    "                            )"
   ]
  },
  {
   "cell_type": "code",
   "execution_count": null,
   "metadata": {},
   "outputs": [],
   "source": [
    "def set_up_model(lr=1e-3, trainable=[True, True, True, True], activations=['relu', 'relu', 'relu']):\n",
    "    keras.backend.clear_session()\n",
    "    inputs = Input(shape=input_shape)\n",
    "    x = Conv2D(2, kernel_size=(3,3), strides=(1, 1), activation=activations[0], padding='same', trainable=trainable[0])(inputs)\n",
    "    x = MaxPooling2D(pool_size=(2,2), strides=(2,2))(x)\n",
    "    x = Conv2D(4, kernel_size=(3,3), strides=(1, 1), activation=activations[1], padding='same', trainable=trainable[1])(x)\n",
    "    x = MaxPooling2D(pool_size=(2,2), strides=(2,2))(x)\n",
    "    x = Conv2D(8, kernel_size=(3,3), strides=(1, 1), activation=activations[2], padding='same', trainable=trainable[2])(x)\n",
    "    x = MaxPooling2D(pool_size=(2,2), strides=(2,2))(x)\n",
    "    x = Flatten()(x)\n",
    "    x = Dense(32, activation='relu', trainable=trainable[3])(x)\n",
    "    x = Dropout(0.5)(x)\n",
    "    predictions = Dense(5, activation='softmax')(x)\n",
    "    model = Model(inputs=inputs, outputs=predictions)\n",
    "    model.compile(loss=keras.losses.categorical_crossentropy,\n",
    "                  optimizer=keras.optimizers.Adam(lr=lr),\n",
    "                  metrics=['accuracy'])\n",
    "    return model"
   ]
  },
  {
   "cell_type": "code",
   "execution_count": null,
   "metadata": {},
   "outputs": [],
   "source": [
    "epochs = 250\n",
    "batch_size = 128"
   ]
  },
  {
   "cell_type": "markdown",
   "metadata": {},
   "source": [
    "## Train models from scratch"
   ]
  },
  {
   "cell_type": "code",
   "execution_count": null,
   "metadata": {},
   "outputs": [],
   "source": [
    "model = set_up_model(trainable=[True, True, True, True])\n",
    "ckpt_training = ModelCheckpoint(os.path.join(savedir, 'weights_training_dset1_0.h5'), \n",
    "                                monitor='val_loss', \n",
    "                                verbose=0, \n",
    "                                save_best_only=True, \n",
    "                                save_weights_only=False,\n",
    "                                mode='auto', \n",
    "                                period=1\n",
    "                               )\n",
    "\n",
    "history = model.fit_generator(datagen1.flow(x_train_1, y_train_1, batch_size=batch_size),\n",
    "                              epochs=epochs,\n",
    "                              verbose=2,\n",
    "                              validation_data=(x_test_1, y_test_1),\n",
    "                              callbacks=[ckpt_training]\n",
    "                              )\n",
    "with open(os.path.join(savedir, 'history_training_dset1_%d.pkl'%i), 'wb') as f:\n",
    "    pickle.dump(history.history, f)"
   ]
  },
  {
   "cell_type": "code",
   "execution_count": null,
   "metadata": {},
   "outputs": [],
   "source": [
    "model = set_up_model(trainable=[True, True, True, True])\n",
    "ckpt_training = ModelCheckpoint(os.path.join(savedir, 'weights_training_dset2_%d.h5'%i), \n",
    "                                monitor='val_loss', \n",
    "                                verbose=0, \n",
    "                                save_best_only=True, \n",
    "                                save_weights_only=False,\n",
    "                                mode='auto', \n",
    "                                period=1\n",
    "                               )\n",
    "\n",
    "history = model.fit_generator(datagen2.flow(x_train_2, y_train_2, batch_size=batch_size),\n",
    "                              epochs=epochs,\n",
    "                              verbose=2,\n",
    "                              validation_data=(x_test_2, y_test_2),\n",
    "                              callbacks=[ckpt_training]\n",
    "                              )\n",
    "with open(os.path.join(savedir, 'history_training_dset2_%d.pkl'%i), 'wb') as f:\n",
    "    pickle.dump(history.history, f)"
   ]
  },
  {
   "cell_type": "code",
   "execution_count": null,
   "metadata": {},
   "outputs": [],
   "source": [
    "with open(os.path.join(savedir, 'history_training_dset1_0.pkl'), 'rb') as f:\n",
    "    history_dset1 = pickle.load(f)\n",
    "with open(os.path.join(savedir, 'history_training_dset2_0.pkl'), 'rb') as f:\n",
    "    history_dset2 = pickle.load(f)"
   ]
  },
  {
   "cell_type": "code",
   "execution_count": null,
   "metadata": {
    "scrolled": true
   },
   "outputs": [],
   "source": [
    "plt.plot(history_dset1['val_loss'])\n",
    "plt.plot(history_dset2['val_loss'])"
   ]
  },
  {
   "cell_type": "markdown",
   "metadata": {},
   "source": [
    "# Freeze 1 conv layer"
   ]
  },
  {
   "cell_type": "code",
   "execution_count": null,
   "metadata": {},
   "outputs": [],
   "source": [
    "model = set_up_model(trainable=[False, True, True, True])\n",
    "model.load_weights(os.path.join(savedir, 'weights_training_dset1_0.h5'))\n",
    "orig_weights = model.get_weights()\n",
    "nweights = copy.deepcopy(orig_weights[:2])\n",
    "for w in orig_weights[2:]:\n",
    "    nweights.append(glorot_uniform()(w.shape).eval(session=keras.backend.get_session()))\n",
    "model.set_weights(nweights)\n",
    "\n",
    "ckpt_training = ModelCheckpoint(os.path.join(savedir, 'weights_transfer_dset1_dset2_0.h5'), \n",
    "                                monitor='val_loss', \n",
    "                                verbose=0, \n",
    "                                save_best_only=True, \n",
    "                                save_weights_only=False,\n",
    "                                mode='auto', \n",
    "                                period=1\n",
    "                               )\n",
    "\n",
    "history = model.fit_generator(datagen2.flow(x_train_2, y_train_2, batch_size=batch_size),\n",
    "                              epochs=epochs,\n",
    "                              verbose=2,\n",
    "                              validation_data=(x_test_2, y_test_2),\n",
    "                              callbacks=[ckpt_training]\n",
    "                              )\n",
    "with open(os.path.join(savedir, 'history_transfer_dset1_dset2_0.pkl'), 'wb') as f:\n",
    "    pickle.dump(history.history, f)"
   ]
  },
  {
   "cell_type": "code",
   "execution_count": null,
   "metadata": {},
   "outputs": [],
   "source": [
    "model = set_up_model(trainable=[False, True, True, True])\n",
    "model.load_weights(os.path.join(savedir, 'weights_training_dset2_0.h5'))\n",
    "orig_weights = model.get_weights()\n",
    "nweights = copy.deepcopy(orig_weights[:2])\n",
    "for w in orig_weights[2:]:\n",
    "    nweights.append(glorot_uniform()(w.shape).eval(session=keras.backend.get_session()))\n",
    "model.set_weights(nweights)\n",
    "\n",
    "ckpt_training = ModelCheckpoint(os.path.join(savedir, 'weights_transfer_dset2_dset1_0.h5'), \n",
    "                                monitor='val_loss', \n",
    "                                verbose=0, \n",
    "                                save_best_only=True, \n",
    "                                save_weights_only=False,\n",
    "                                mode='auto', \n",
    "                                period=1\n",
    "                               )\n",
    "\n",
    "history = model.fit_generator(datagen1.flow(x_train_1, y_train_1, batch_size=batch_size),\n",
    "                              epochs=epochs,\n",
    "                              verbose=2,\n",
    "                              validation_data=(x_test_1, y_test_1),\n",
    "                              callbacks=[ckpt_training]\n",
    "                              )\n",
    "with open(os.path.join(savedir, 'history_transfer_dset2_dset1_0.pkl'), 'wb') as f:\n",
    "    pickle.dump(history.history, f)"
   ]
  },
  {
   "cell_type": "code",
   "execution_count": null,
   "metadata": {},
   "outputs": [],
   "source": [
    "with open(os.path.join(savedir, 'history_transfer_dset1_dset2_0.pkl'), 'rb') as f:\n",
    "    history_dset1_dset2 = pickle.load(f)\n",
    "with open(os.path.join(savedir, 'history_transfer_dset2_dset1_0.pkl'), 'rb') as f:\n",
    "    history_dset2_dset1 = pickle.load(f)"
   ]
  },
  {
   "cell_type": "code",
   "execution_count": null,
   "metadata": {},
   "outputs": [],
   "source": [
    "plt.plot(history_dset2_dset1['val_loss'], label='dset2->dset1', color='orange')\n",
    "plt.plot(history_dset1_dset2['val_loss'], label='dset1->dset2', color='deepskyblue')\n",
    "plt.legend()"
   ]
  },
  {
   "cell_type": "markdown",
   "metadata": {},
   "source": [
    "# Freeze 2 conv layers"
   ]
  },
  {
   "cell_type": "code",
   "execution_count": null,
   "metadata": {},
   "outputs": [],
   "source": [
    "model = set_up_model(trainable=[False, False, True, True])\n",
    "model.load_weights(os.path.join(savedir, 'weights_training_dset1_0.h5'))\n",
    "orig_weights = model.get_weights()\n",
    "nweights = copy.deepcopy(orig_weights[:4])\n",
    "for w in orig_weights[4:]:\n",
    "    nweights.append(glorot_uniform()(w.shape).eval(session=keras.backend.get_session()))\n",
    "model.set_weights(nweights)\n",
    "\n",
    "ckpt_training = ModelCheckpoint(os.path.join(savedir, 'weights_transfer_dset1_dset2_freeze_2.h5'), \n",
    "                                monitor='val_loss', \n",
    "                                verbose=0, \n",
    "                                save_best_only=True, \n",
    "                                save_weights_only=False,\n",
    "                                mode='auto', \n",
    "                                period=1\n",
    "                               )\n",
    "\n",
    "history = model.fit_generator(datagen2.flow(x_train_2, y_train_2, batch_size=batch_size),\n",
    "                              epochs=epochs,\n",
    "                              verbose=2,\n",
    "                              validation_data=(x_test_2, y_test_2),\n",
    "                              callbacks=[ckpt_training]\n",
    "                              )\n",
    "with open(os.path.join(savedir, 'history_transfer_dset1_dset2_freeze_2.pkl'), 'wb') as f:\n",
    "    pickle.dump(history.history, f)"
   ]
  },
  {
   "cell_type": "code",
   "execution_count": null,
   "metadata": {},
   "outputs": [],
   "source": [
    "model = set_up_model(trainable=[False, False, True, True])\n",
    "model.load_weights(os.path.join(savedir, 'weights_training_dset2_0.h5'))\n",
    "orig_weights = model.get_weights()\n",
    "nweights = copy.deepcopy(orig_weights[:4])\n",
    "for w in orig_weights[4:]:\n",
    "    nweights.append(glorot_uniform()(w.shape).eval(session=keras.backend.get_session()))\n",
    "model.set_weights(nweights)\n",
    "    \n",
    "ckpt_training = ModelCheckpoint(os.path.join(savedir, 'weights_transfer_dset2_dset1_freeze_2.h5'), \n",
    "                                monitor='val_loss', \n",
    "                                verbose=0, \n",
    "                                save_best_only=True, \n",
    "                                save_weights_only=False,\n",
    "                                mode='auto', \n",
    "                                period=1\n",
    "                               )\n",
    "\n",
    "history_training = model.fit_generator(datagen1.flow(x_train_1, y_train_1, batch_size=batch_size),\n",
    "                              epochs=epochs,\n",
    "                              verbose=2,\n",
    "                              validation_data=(x_test_1, y_test_1),\n",
    "                              callbacks=[ckpt_training]\n",
    "                              )\n",
    "with open(os.path.join(savedir, 'history_transfer_dset2_dset1_freeze_2.pkl'), 'wb') as f:\n",
    "    pickle.dump(history_training.history, f)"
   ]
  },
  {
   "cell_type": "code",
   "execution_count": null,
   "metadata": {},
   "outputs": [],
   "source": [
    "with open(os.path.join(savedir, 'history_transfer_dset1_dset1_freeze_2.pkl'), 'rb') as f:\n",
    "    history_dset1_dset1 = pickle.load(f)\n",
    "with open(os.path.join(savedir, 'history_transfer_dset2_dset1_freeze_2.pkl'), 'rb') as f:\n",
    "    history_dset2_dset1 = pickle.load(f)"
   ]
  },
  {
   "cell_type": "code",
   "execution_count": null,
   "metadata": {},
   "outputs": [],
   "source": [
    "plt.plot(history_dset2_dset1['val_loss'], label='dset2->dset1', color='orange')\n",
    "plt.plot(history_dset1_dset2['val_loss'], label='dset1->dset2', color='deepskyblue')\n",
    "plt.legend()"
   ]
  },
  {
   "cell_type": "markdown",
   "metadata": {},
   "source": [
    "# Freeze 3 conv layers"
   ]
  },
  {
   "cell_type": "code",
   "execution_count": null,
   "metadata": {},
   "outputs": [],
   "source": [
    "model = set_up_model(trainable=[False, False, False, True])\n",
    "model.load_weights(os.path.join(savedir, 'weights_training_dset2_0.h5'))\n",
    "orig_weights = model.get_weights()\n",
    "nweights = copy.deepcopy(orig_weights[:6])\n",
    "for w in orig_weights[6:]:\n",
    "    nweights.append(glorot_uniform()(w.shape).eval(session=keras.backend.get_session()))\n",
    "model.set_weights(nweights)\n",
    "\n",
    "ckpt_training = ModelCheckpoint(os.path.join(savedir, 'weights_transfer_dset2_dset_1freeze_3.h5'), \n",
    "                                monitor='val_loss', \n",
    "                                verbose=0, \n",
    "                                save_best_only=True, \n",
    "                                save_weights_only=False,\n",
    "                                mode='auto', \n",
    "                                period=1\n",
    "                               )\n",
    "\n",
    "history = model.fit_generator(datagen1.flow(x_train_1, y_train_1, batch_size=batch_size),\n",
    "                              epochs=epochs,\n",
    "                              verbose=2,\n",
    "                              validation_data=(x_test_1, y_test_1),\n",
    "                              callbacks=[ckpt_training]\n",
    "                              )\n",
    "with open(os.path.join(savedir, 'history_transfer_dset2_dset1_freeze_3.pkl'), 'wb') as f:\n",
    "    pickle.dump(history.history, f)"
   ]
  },
  {
   "cell_type": "code",
   "execution_count": null,
   "metadata": {},
   "outputs": [],
   "source": [
    "model = set_up_model(trainable=[False, False, False, True])\n",
    "model.load_weights(os.path.join(savedir, 'weights_training_dset1_0.h5'))\n",
    "orig_weights = model.get_weights()\n",
    "nweights = copy.deepcopy(orig_weights[:6])\n",
    "for w in orig_weights[6:]:\n",
    "    nweights.append(glorot_uniform()(w.shape).eval(session=keras.backend.get_session()))\n",
    "model.set_weights(nweights)\n",
    "\n",
    "ckpt_training = ModelCheckpoint(os.path.join(savedir, 'weights_transfer_dset1_dset2_freeze_3.h5'), \n",
    "                                monitor='val_loss', \n",
    "                                verbose=0, \n",
    "                                save_best_only=True, \n",
    "                                save_weights_only=False,\n",
    "                                mode='auto', \n",
    "                                period=1\n",
    "                               )\n",
    "\n",
    "history = model.fit_generator(datagen2.flow(x_train_2, y_train_2, batch_size=batch_size),\n",
    "                              epochs=epochs,\n",
    "                              verbose=2,\n",
    "                              validation_data=(x_test_2, y_test_2),\n",
    "                              callbacks=[ckpt_training]\n",
    "                              )\n",
    "with open(os.path.join(savedir, 'history_transfer_dset1_dset2_freeze_3.pkl'), 'wb') as f:\n",
    "    pickle.dump(history.history, f)"
   ]
  },
  {
   "cell_type": "code",
   "execution_count": null,
   "metadata": {},
   "outputs": [],
   "source": [
    "with open(os.path.join(savedir, 'history_transfer_dset1_dset2_0.pkl'), 'rb') as f:\n",
    "    history_dset1_dset2_1 = pickle.load(f)\n",
    "with open(os.path.join(savedir, 'history_transfer_dset2_dset1_0.pkl'), 'rb') as f:\n",
    "    history_dset2_dset1_1 = pickle.load(f)"
   ]
  },
  {
   "cell_type": "code",
   "execution_count": null,
   "metadata": {},
   "outputs": [],
   "source": [
    "with open(os.path.join(savedir, 'history_transfer_dset1_dset2_freeze_2.pkl'), 'rb') as f:\n",
    "    history_dset1_dset2_2 = pickle.load(f)\n",
    "with open(os.path.join(savedir, 'history_transfer_dset2_dset1_freeze_2.pkl'), 'rb') as f:\n",
    "    history_dset2_dset1_2 = pickle.load(f)"
   ]
  },
  {
   "cell_type": "code",
   "execution_count": null,
   "metadata": {},
   "outputs": [],
   "source": [
    "with open(os.path.join(savedir, 'history_transfer_dset1_dset2_freeze_3.pkl'), 'rb') as f:\n",
    "    history_dset1_dset2_3 = pickle.load(f)\n",
    "with open(os.path.join(savedir, 'history_transfer_dset2_dset1_freeze_3.pkl'), 'rb') as f:\n",
    "    history_dset2_dset1_3 = pickle.load(f)"
   ]
  }
 ],
 "metadata": {
  "kernelspec": {
   "display_name": "Python 3",
   "language": "python",
   "name": "python3"
  },
  "language_info": {
   "codemirror_mode": {
    "name": "ipython",
    "version": 3
   },
   "file_extension": ".py",
   "mimetype": "text/x-python",
   "name": "python",
   "nbconvert_exporter": "python",
   "pygments_lexer": "ipython3",
   "version": "3.5.2"
  }
 },
 "nbformat": 4,
 "nbformat_minor": 2
}
